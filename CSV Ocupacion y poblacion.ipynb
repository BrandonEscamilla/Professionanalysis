{
 "cells": [
  {
   "cell_type": "code",
   "execution_count": 3,
   "metadata": {},
   "outputs": [],
   "source": [
    "import matplotlib as pp\n",
    "import matplotlib.pyplot as plt\n",
    "from matplotlib.gridspec import GridSpec\n",
    "import pandas as pd\n",
    "import numpy as np\n",
    "from sshtunnel import SSHTunnelForwarder\n",
    "from matplotlib.gridspec import GridSpec\n",
    "import re\n",
    "import collections\n",
    "from mpl_toolkits.basemap import Basemap\n",
    "import datetime as dt"
   ]
  },
  {
   "cell_type": "code",
   "execution_count": 55,
   "metadata": {},
   "outputs": [
    {
     "data": {
      "text/plain": [
       "EDA        39.555556\n",
       "P6B2    39619.444444\n",
       "P3       2271.000000\n",
       "dtype: float64"
      ]
     },
     "execution_count": 55,
     "metadata": {},
     "output_type": "execute_result"
    }
   ],
   "source": [
    "df1 = pd.read_csv('coe1t118.csv')\n",
    "df2 = pd.read_csv('coe2t118.csv')\n",
    "df_total = pd.merge(df1,df2)\n",
    "Inges = df_total[['EDA','P6B2','P3']]\n",
    "Inges_Soft = (Inges[Inges['P3'] == 2271].sort_values('P6B2',ascending=False))\n",
    "Inges_Soft_promedio = (Inges[Inges['P3'] == 2271])\n",
    "Inges_Soft_promedio_20 = (Inges_Soft_promedio[Inges_Soft_promedio['P6B2'] > 28000 ])\n",
    "Inges_Soft_promedio_20_29 = (Inges_Soft_promedio_20[Inges_Soft_promedio_20['EDA'] >  30 ])\n",
    "x = Inges_Soft_promedio_20_29.sort_values('P6B2',ascending=False)\n",
    "x.mean()"
   ]
  },
  {
   "cell_type": "code",
   "execution_count": null,
   "metadata": {},
   "outputs": [],
   "source": []
  }
 ],
 "metadata": {
  "kernelspec": {
   "display_name": "Python 3",
   "language": "python",
   "name": "python3"
  },
  "language_info": {
   "codemirror_mode": {
    "name": "ipython",
    "version": 3
   },
   "file_extension": ".py",
   "mimetype": "text/x-python",
   "name": "python",
   "nbconvert_exporter": "python",
   "pygments_lexer": "ipython3",
   "version": "3.6.4"
  }
 },
 "nbformat": 4,
 "nbformat_minor": 2
}
